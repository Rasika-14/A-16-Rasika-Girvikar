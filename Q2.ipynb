{
 "cells": [
  {
   "cell_type": "code",
   "execution_count": 21,
   "metadata": {},
   "outputs": [
    {
     "name": "stdout",
     "output_type": "stream",
     "text": [
      "Enter number: 121\n",
      "121 is Palindrome\n",
      "Enter number: 123\n",
      "123 is not Palindrome\n"
     ]
    }
   ],
   "source": [
    "# Define a class for Checking Palindrome number\n",
    "class Check :\n",
    "\n",
    "    # Constructor\n",
    "    def __init__(self,number) :\n",
    "        self.num = number\n",
    "        \n",
    "    \n",
    "    def isPalindrome(self) :\n",
    "\n",
    "        temp = self.num\n",
    "  \n",
    "        result = 0\n",
    "\n",
    "        while(temp != 0) :\n",
    "            \n",
    "            rem = temp % 10\n",
    "\n",
    "            result =  result * 10 + rem\n",
    "\n",
    "            temp //= 10\n",
    "\n",
    "        \n",
    "        if self.num == result :\n",
    "            print(self.num,\"is Palindrome\")\n",
    "        else :\n",
    "            print(self.num,\"is not Palindrome\")\n",
    "\n",
    "\n",
    "\n",
    "if __name__ == \"__main__\" :\n",
    "    \n",
    "    # input number\n",
    "    num = int(input(\"Enter number: \"))\n",
    "    \n",
    "    \n",
    "    check_Palindrome = Check(num)\n",
    "    \n",
    "    check_Palindrome.isPalindrome()\n",
    "    \n",
    "    num = int(input(\"Enter number: \"))\n",
    "    check_Palindrome = Check(num)\n",
    "    check_Palindrome.isPalindrome()\n",
    "\n"
   ]
  },
  {
   "cell_type": "code",
   "execution_count": null,
   "metadata": {},
   "outputs": [],
   "source": []
  }
 ],
 "metadata": {
  "kernelspec": {
   "display_name": "Python 3",
   "language": "python",
   "name": "python3"
  },
  "language_info": {
   "codemirror_mode": {
    "name": "ipython",
    "version": 3
   },
   "file_extension": ".py",
   "mimetype": "text/x-python",
   "name": "python",
   "nbconvert_exporter": "python",
   "pygments_lexer": "ipython3",
   "version": "3.8.3"
  }
 },
 "nbformat": 4,
 "nbformat_minor": 4
}
